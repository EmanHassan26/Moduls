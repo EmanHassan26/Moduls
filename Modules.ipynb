{
 "cells": [
  {
   "cell_type": "code",
   "execution_count": 1,
   "metadata": {},
   "outputs": [
    {
     "name": "stdout",
     "output_type": "stream",
     "text": [
      "Hello Iam Studing Python :)\n"
     ]
    }
   ],
   "source": [
    "# MODULES :\n",
    "\n",
    "#1-Import Medulemame \n",
    "\n",
    "#2-import more than one :\n",
    "# => import medule1 , medule2 ,... \n",
    "\n",
    "#3-Import Function From Medule \n",
    "# => from module import function\n",
    "\n",
    "#4-Show all function in Module :\n",
    "# => print(dir(module))\n",
    "\n",
    "#5-Print THe Result :\n",
    "# => print(module.function())\n",
    "#The place of module in pc:\n",
    "# => print(module)\n",
    "\n",
    "#6-Before U import Function make sure that U import the Module\n",
    "\n",
    "print(\"Hello Iam Studing Python :)\")"
   ]
  },
  {
   "cell_type": "code",
   "execution_count": 6,
   "metadata": {},
   "outputs": [
    {
     "name": "stdout",
     "output_type": "stream",
     "text": [
      "Now , Iam printing random module & randint() function : 19\n",
      "Now , Iam printing random module & random() function : 0.26624007833299934\n",
      "Now , Iam printing random module & randrange() function : 19\n"
     ]
    }
   ],
   "source": [
    "import random \n",
    "print(f'Now , Iam printing random module & randint() function : {random.randint(10,23)}')\n",
    "print(f'Now , Iam printing random module & random() function : {random.random()}')\n",
    "print(f'Now , Iam printing random module & randrange() function : {random.randrange(10,23)}')\n"
   ]
  },
  {
   "cell_type": "code",
   "execution_count": 7,
   "metadata": {},
   "outputs": [
    {
     "name": "stdout",
     "output_type": "stream",
     "text": [
      "['BPF', 'LOG4', 'NV_MAGICCONST', 'RECIP_BPF', 'Random', 'SG_MAGICCONST', 'SystemRandom', 'TWOPI', '_BuiltinMethodType', '_MethodType', '_Sequence', '_Set', '__all__', '__builtins__', '__cached__', '__doc__', '__file__', '__loader__', '__name__', '__package__', '__spec__', '_acos', '_bisect', '_ceil', '_cos', '_e', '_exp', '_inst', '_itertools', '_log', '_os', '_pi', '_random', '_sha512', '_sin', '_sqrt', '_test', '_test_generator', '_urandom', '_warn', 'betavariate', 'choice', 'choices', 'expovariate', 'gammavariate', 'gauss', 'getrandbits', 'getstate', 'lognormvariate', 'normalvariate', 'paretovariate', 'randint', 'random', 'randrange', 'sample', 'seed', 'setstate', 'shuffle', 'triangular', 'uniform', 'vonmisesvariate', 'weibullvariate']\n"
     ]
    }
   ],
   "source": [
    "import random\n",
    "print( dir(random))"
   ]
  },
  {
   "cell_type": "code",
   "execution_count": 8,
   "metadata": {},
   "outputs": [
    {
     "name": "stdout",
     "output_type": "stream",
     "text": [
      "['C:\\\\Users\\\\ascom\\\\Pythonselfstudy', 'C:\\\\Users\\\\ascom\\\\Anaconda3\\\\python37.zip', 'C:\\\\Users\\\\ascom\\\\Anaconda3\\\\DLLs', 'C:\\\\Users\\\\ascom\\\\Anaconda3\\\\lib', 'C:\\\\Users\\\\ascom\\\\Anaconda3', '', 'C:\\\\Users\\\\ascom\\\\Anaconda3\\\\lib\\\\site-packages', 'C:\\\\Users\\\\ascom\\\\Anaconda3\\\\lib\\\\site-packages\\\\win32', 'C:\\\\Users\\\\ascom\\\\Anaconda3\\\\lib\\\\site-packages\\\\win32\\\\lib', 'C:\\\\Users\\\\ascom\\\\Anaconda3\\\\lib\\\\site-packages\\\\Pythonwin', 'C:\\\\Users\\\\ascom\\\\Anaconda3\\\\lib\\\\site-packages\\\\IPython\\\\extensions', 'C:\\\\Users\\\\ascom\\\\.ipython']\n"
     ]
    }
   ],
   "source": [
    "import sys\n",
    "print(sys.path)"
   ]
  },
  {
   "cell_type": "code",
   "execution_count": 23,
   "metadata": {},
   "outputs": [
    {
     "name": "stdout",
     "output_type": "stream",
     "text": [
      "C:\\Users\\ascom\\Pythonselfstudy\n"
     ]
    }
   ],
   "source": [
    "import os,sys\n",
    "print ( os.getcwd())\n",
    "# sys.path.append(r\"C:\\Users\\ascom\\Pythonselfstudy\\modulfun\")\n",
    "# print(sys.path)\n",
    "# #print(modulfun.sayhello(\"Jabeer\"))\n",
    "# import modulfun\n",
    "# print(dir(modulfun))"
   ]
  },
  {
   "cell_type": "code",
   "execution_count": 27,
   "metadata": {},
   "outputs": [
    {
     "ename": "ModuleNotFoundError",
     "evalue": "No module named 'modulfun'",
     "output_type": "error",
     "traceback": [
      "\u001b[1;31m---------------------------------------------------------------------------\u001b[0m",
      "\u001b[1;31mModuleNotFoundError\u001b[0m                       Traceback (most recent call last)",
      "\u001b[1;32m<ipython-input-27-6e1285ecdd46>\u001b[0m in \u001b[0;36m<module>\u001b[1;34m\u001b[0m\n\u001b[1;32m----> 1\u001b[1;33m \u001b[1;32mimport\u001b[0m \u001b[0mmodulfun\u001b[0m \u001b[1;32mas\u001b[0m \u001b[0mmf\u001b[0m\u001b[1;33m\u001b[0m\u001b[1;33m\u001b[0m\u001b[0m\n\u001b[0m\u001b[0;32m      2\u001b[0m \u001b[0mmf\u001b[0m\u001b[1;33m.\u001b[0m\u001b[0msayhello\u001b[0m\u001b[1;33m(\u001b[0m\u001b[1;34m\"Jana\"\u001b[0m\u001b[1;33m)\u001b[0m\u001b[1;33m\u001b[0m\u001b[1;33m\u001b[0m\u001b[0m\n",
      "\u001b[1;31mModuleNotFoundError\u001b[0m: No module named 'modulfun'"
     ]
    }
   ],
   "source": [
    "import modulfun as mf\n",
    "mf.sayhello(\"Jana\")"
   ]
  },
  {
   "cell_type": "code",
   "execution_count": null,
   "metadata": {},
   "outputs": [],
   "source": []
  },
  {
   "cell_type": "code",
   "execution_count": null,
   "metadata": {},
   "outputs": [],
   "source": []
  }
 ],
 "metadata": {
  "kernelspec": {
   "display_name": "Python 3",
   "language": "python",
   "name": "python3"
  },
  "language_info": {
   "codemirror_mode": {
    "name": "ipython",
    "version": 3
   },
   "file_extension": ".py",
   "mimetype": "text/x-python",
   "name": "python",
   "nbconvert_exporter": "python",
   "pygments_lexer": "ipython3",
   "version": "3.7.4"
  }
 },
 "nbformat": 4,
 "nbformat_minor": 2
}
